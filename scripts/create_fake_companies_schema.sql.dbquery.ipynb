{
 "cells": [
  {
   "cell_type": "code",
   "execution_count": 0,
   "metadata": {
    "application/vnd.databricks.v1+cell": {
     "cellMetadata": {},
     "inputWidgets": {},
     "nuid": "da542933-e052-4158-a4d7-4b0a8cfd505d",
     "showTitle": false,
     "tableResultSettingsMap": {},
     "title": ""
    }
   },
   "outputs": [],
   "source": [
    "CREATE SCHEMA IF NOT EXISTS money_mop;\n",
    "USE money_mop;\n",
    "\n",
    "---------------------------------------------------------\n",
    "CREATE TABLE IF NOT EXISTS ref_companies (\n",
    "    company_name STRING\n",
    ");\n",
    "\n",
    "INSERT INTO ref_companies VALUES\n",
    "    ('Spendora'), \n",
    "    ('Expensivus'), \n",
    "    ('ClarityLedger'), \n",
    "    ('TrueSpend'), \n",
    "    ('Fintrix'), \n",
    "    ('Procuro'), \n",
    "    ('LedgrIQ'), \n",
    "    ('Zentro');\n",
    "\n",
    "---------------------------------------------------------\n",
    "CREATE TABLE IF NOT EXISTS money_mop.ref_departments (\n",
    "    department_name STRING\n",
    ");\n",
    "\n",
    "INSERT INTO money_mop.ref_departments VALUES\n",
    "    ('Engineering'), \n",
    "    ('Marketing'), \n",
    "    ('Sales'), \n",
    "    ('Finance'), \n",
    "    ('HR'), \n",
    "    ('Operations');\n",
    "\n",
    "---------------------------------------------------------\n",
    "CREATE TABLE IF NOT EXISTS money_mop.ref_merchants (\n",
    "    category STRING,\n",
    "    merchant STRING\n",
    ");\n",
    "\n",
    "INSERT INTO money_mop.ref_merchants VALUES\n",
    "    ('Travel', 'Delta'),\n",
    "    ('Travel', 'Uber'),\n",
    "    ('Travel', 'Lyft'),\n",
    "    ('Travel', 'Marriott'),\n",
    "    ('Travel', 'Hilton'),\n",
    "    ('Meals', 'Starbucks'),\n",
    "    ('Meals', 'Chipotle'),\n",
    "    ('Meals', 'Panera'),\n",
    "    ('Meals', 'Olive Garden'),\n",
    "    ('Supplies', 'Staples'),\n",
    "    ('Supplies', 'Office Depot'),\n",
    "    ('Supplies', 'Amazon'),\n",
    "    ('Entertainment', 'AMC'),\n",
    "    ('Entertainment', 'TopGolf'),\n",
    "    ('Entertainment', 'Dave & Buster''s'),\n",
    "    ('Misc', 'Etsy'),\n",
    "    ('Misc', 'Other'),\n",
    "    ('Misc', 'Unknown');\n",
    "\n",
    "---------------------------------------------------------\n",
    "CREATE TABLE IF NOT EXISTS money_mop.ref_category_amounts (\n",
    "    category STRING,\n",
    "    mean_amount DOUBLE,\n",
    "    std_amount DOUBLE\n",
    ");\n",
    "\n",
    "INSERT INTO money_mop.ref_category_amounts VALUES\n",
    "    ('Travel', 500, 150),\n",
    "    ('Meals', 50, 25),\n",
    "    ('Supplies', 50, 20),\n",
    "    ('Entertainment', 100, 50),\n",
    "    ('Misc', 75, 75);\n"
   ]
  }
 ],
 "metadata": {
  "application/vnd.databricks.v1+notebook": {
   "computePreferences": null,
   "dashboards": [],
   "environmentMetadata": null,
   "inputWidgetPreferences": null,
   "language": "sql",
   "notebookMetadata": {
    "pythonIndentUnit": 4,
    "sqlQueryOptions": {
     "applyAutoLimit": true,
     "catalog": "workspace",
     "schema": "money_mop"
    }
   },
   "notebookName": "create_fake_companies_schema.sql.dbquery.ipynb",
   "widgets": {}
  },
  "language_info": {
   "name": "sql"
  }
 },
 "nbformat": 4,
 "nbformat_minor": 0
}
